{
 "cells": [
  {
   "cell_type": "code",
   "execution_count": 34,
   "metadata": {},
   "outputs": [],
   "source": [
    "from bs4 import BeautifulSoup\n",
    "import requests\n",
    "import csv"
   ]
  },
  {
   "cell_type": "code",
   "execution_count": 2,
   "metadata": {},
   "outputs": [],
   "source": [
    "url = \"https://www.imdb.com/chart/top?ref_=nv_mv_250\""
   ]
  },
  {
   "cell_type": "code",
   "execution_count": 3,
   "metadata": {},
   "outputs": [],
   "source": [
    "page = requests.get(url)"
   ]
  },
  {
   "cell_type": "code",
   "execution_count": 5,
   "metadata": {},
   "outputs": [],
   "source": [
    "soup = BeautifulSoup(page.text, \"html.parser\")"
   ]
  },
  {
   "cell_type": "code",
   "execution_count": 12,
   "metadata": {},
   "outputs": [],
   "source": [
    "raw_html = soup.find(\"tbody\", {\"class\": \"lister-list\"}).findAll(\"tr\")"
   ]
  },
  {
   "cell_type": "code",
   "execution_count": 38,
   "metadata": {},
   "outputs": [],
   "source": [
    "def main_fun():\n",
    "    movies_list = []\n",
    "    for html in raw_html:\n",
    "        title = html.find(\"td\", {\"class\":\"titleColumn\"}).find(\"a\").get_text()\n",
    "\n",
    "        rating = html.find(\"td\", {\"class\":\"ratingColumn imdbRating\"}).find(\"strong\").get_text()\n",
    "        rating = float(rating)\n",
    "\n",
    "        raw_list = [title, rating]\n",
    "        movies_list.append(raw_list)\n",
    "\n",
    "    recomendation(movies_list)\n",
    "    create_csv(movies_list)"
   ]
  },
  {
   "cell_type": "code",
   "execution_count": 40,
   "metadata": {},
   "outputs": [],
   "source": [
    "def recomendation(m_list):\n",
    "    print(\"Enter you rating for recomendation:\")\n",
    "    user_rating = input()\n",
    "    user_rating = float(user_rating)\n",
    "    for x in range(len(m_list)):\n",
    "        if m_list[x][1]>user_rating:\n",
    "            print(m_list[x][0])"
   ]
  },
  {
   "cell_type": "code",
   "execution_count": 37,
   "metadata": {},
   "outputs": [],
   "source": [
    "def create_csv(movies):\n",
    "    with open('movies.csv', 'w') as csvfile:\n",
    "        writer = csv.writer(csvfile)\n",
    "        row = ['Name', 'Rating']\n",
    "        writer.writerow(row)\n",
    "        for x in range(len(movies)):\n",
    "            row = movies[x]\n",
    "            writer.writerow(row)\n",
    "    csvfile.close()"
   ]
  },
  {
   "cell_type": "code",
   "execution_count": 41,
   "metadata": {},
   "outputs": [
    {
     "name": "stdout",
     "output_type": "stream",
     "text": [
      "Enter you rating for recomendation:\n",
      "8.7\n",
      "The Shawshank Redemption\n",
      "The Godfather\n",
      "The Godfather: Part II\n",
      "The Dark Knight\n",
      "12 Angry Men\n",
      "Schindler's List\n",
      "The Lord of the Rings: The Return of the King\n",
      "Pulp Fiction\n",
      "Il buono, il brutto, il cattivo\n",
      "Fight Club\n",
      "The Lord of the Rings: The Fellowship of the Ring\n",
      "Forrest Gump\n"
     ]
    }
   ],
   "source": [
    "main_fun()"
   ]
  },
  {
   "cell_type": "code",
   "execution_count": null,
   "metadata": {},
   "outputs": [],
   "source": []
  }
 ],
 "metadata": {
  "kernelspec": {
   "display_name": "Python 3",
   "language": "python",
   "name": "python3"
  },
  "language_info": {
   "codemirror_mode": {
    "name": "ipython",
    "version": 3
   },
   "file_extension": ".py",
   "mimetype": "text/x-python",
   "name": "python",
   "nbconvert_exporter": "python",
   "pygments_lexer": "ipython3",
   "version": "3.6.8"
  }
 },
 "nbformat": 4,
 "nbformat_minor": 2
}
